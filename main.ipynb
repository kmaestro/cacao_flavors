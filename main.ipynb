{
 "cells": [
  {
   "cell_type": "code",
   "execution_count": 1,
   "metadata": {
    "collapsed": true
   },
   "outputs": [],
   "source": [
    "import pandas as pd\n",
    "import matplotlib.pyplot as plt\n",
    "import seaborn as sns\n",
    "from itertools import combinations\n",
    "from scipy.stats import ttest_ind"
   ]
  },
  {
   "cell_type": "code",
   "execution_count": 2,
   "outputs": [],
   "source": [
    "pd.set_option('display.max_rows', 50) # выведем больше строк\n",
    "\n",
    "pd.set_option('display.max_columns', 50) # выведем больше колонок\n",
    "\n",
    "cacao = pd.read_csv('cacao_flavors.csv')"
   ],
   "metadata": {
    "collapsed": false,
    "pycharm": {
     "name": "#%%\n"
    }
   }
  },
  {
   "cell_type": "code",
   "execution_count": 3,
   "outputs": [
    {
     "data": {
      "text/plain": "Index(['Bar id', 'Company \\n(Maker-if known)',\n       'Specific Bean Origin\\nor Bar Name', 'REF', 'Review\\nDate',\n       'Cocoa\\nPercent', 'Company\\nLocation', 'Rating', 'Bean\\nType',\n       'Broad Bean\\nOrigin'],\n      dtype='object')"
     },
     "execution_count": 3,
     "metadata": {},
     "output_type": "execute_result"
    }
   ],
   "source": [
    "cacao.columns"
   ],
   "metadata": {
    "collapsed": false,
    "pycharm": {
     "name": "#%%\n"
    }
   }
  },
  {
   "cell_type": "code",
   "execution_count": 4,
   "outputs": [],
   "source": [
    "cacao.columns = [\n",
    "    'bar_id',\n",
    "    'company',\n",
    "    'specific_origin',\n",
    "    'ref',\n",
    "    'review_date',\n",
    "    'cocoa_percent',\n",
    "    'company_location',\n",
    "    'rating',\n",
    "    'bean_type',\n",
    "    'broad_origin',\n",
    "]"
   ],
   "metadata": {
    "collapsed": false,
    "pycharm": {
     "name": "#%%\n"
    }
   }
  },
  {
   "cell_type": "code",
   "execution_count": 5,
   "outputs": [
    {
     "data": {
      "text/plain": "      bar_id   company     specific_origin   ref  review_date cocoa_percent  \\\n0          1  A. Morin         Agua Grande  1876         2016           63%   \n1          2  A. Morin               Kpime  1676         2015           70%   \n2          3  A. Morin              Atsane  1676         2015          670%   \n3          4  A. Morin               Akata  1680         2015           70%   \n4          5  A. Morin              Quilla  1704         2015           70%   \n...      ...       ...                 ...   ...          ...           ...   \n1790    1791    Zotter                Peru   647         2011           70%   \n1791    1792    Zotter               Congo   749         2011           65%   \n1792    1793    Zotter        Kerala State   749         2011           65%   \n1793    1794    Zotter        Kerala State   781         2011           62%   \n1794    1795    Zotter  Brazil, Mitzi Blue   486         2010           65%   \n\n     company_location  rating  bean_type broad_origin  \n0              France   11.50                Sao Tome  \n1              France    2.75                    Togo  \n2              France    3.00                    Togo  \n3              France    3.50                    Togo  \n4              France    3.50                    Peru  \n...               ...     ...        ...          ...  \n1790          Austria    3.75                    Peru  \n1791          Austria    3.00  Forastero        Congo  \n1792          Austria    3.50  Forastero        India  \n1793          Austria    3.25                   India  \n1794          Austria    3.00                  Brazil  \n\n[1795 rows x 10 columns]",
      "text/html": "<div>\n<style scoped>\n    .dataframe tbody tr th:only-of-type {\n        vertical-align: middle;\n    }\n\n    .dataframe tbody tr th {\n        vertical-align: top;\n    }\n\n    .dataframe thead th {\n        text-align: right;\n    }\n</style>\n<table border=\"1\" class=\"dataframe\">\n  <thead>\n    <tr style=\"text-align: right;\">\n      <th></th>\n      <th>bar_id</th>\n      <th>company</th>\n      <th>specific_origin</th>\n      <th>ref</th>\n      <th>review_date</th>\n      <th>cocoa_percent</th>\n      <th>company_location</th>\n      <th>rating</th>\n      <th>bean_type</th>\n      <th>broad_origin</th>\n    </tr>\n  </thead>\n  <tbody>\n    <tr>\n      <th>0</th>\n      <td>1</td>\n      <td>A. Morin</td>\n      <td>Agua Grande</td>\n      <td>1876</td>\n      <td>2016</td>\n      <td>63%</td>\n      <td>France</td>\n      <td>11.50</td>\n      <td></td>\n      <td>Sao Tome</td>\n    </tr>\n    <tr>\n      <th>1</th>\n      <td>2</td>\n      <td>A. Morin</td>\n      <td>Kpime</td>\n      <td>1676</td>\n      <td>2015</td>\n      <td>70%</td>\n      <td>France</td>\n      <td>2.75</td>\n      <td></td>\n      <td>Togo</td>\n    </tr>\n    <tr>\n      <th>2</th>\n      <td>3</td>\n      <td>A. Morin</td>\n      <td>Atsane</td>\n      <td>1676</td>\n      <td>2015</td>\n      <td>670%</td>\n      <td>France</td>\n      <td>3.00</td>\n      <td></td>\n      <td>Togo</td>\n    </tr>\n    <tr>\n      <th>3</th>\n      <td>4</td>\n      <td>A. Morin</td>\n      <td>Akata</td>\n      <td>1680</td>\n      <td>2015</td>\n      <td>70%</td>\n      <td>France</td>\n      <td>3.50</td>\n      <td></td>\n      <td>Togo</td>\n    </tr>\n    <tr>\n      <th>4</th>\n      <td>5</td>\n      <td>A. Morin</td>\n      <td>Quilla</td>\n      <td>1704</td>\n      <td>2015</td>\n      <td>70%</td>\n      <td>France</td>\n      <td>3.50</td>\n      <td></td>\n      <td>Peru</td>\n    </tr>\n    <tr>\n      <th>...</th>\n      <td>...</td>\n      <td>...</td>\n      <td>...</td>\n      <td>...</td>\n      <td>...</td>\n      <td>...</td>\n      <td>...</td>\n      <td>...</td>\n      <td>...</td>\n      <td>...</td>\n    </tr>\n    <tr>\n      <th>1790</th>\n      <td>1791</td>\n      <td>Zotter</td>\n      <td>Peru</td>\n      <td>647</td>\n      <td>2011</td>\n      <td>70%</td>\n      <td>Austria</td>\n      <td>3.75</td>\n      <td></td>\n      <td>Peru</td>\n    </tr>\n    <tr>\n      <th>1791</th>\n      <td>1792</td>\n      <td>Zotter</td>\n      <td>Congo</td>\n      <td>749</td>\n      <td>2011</td>\n      <td>65%</td>\n      <td>Austria</td>\n      <td>3.00</td>\n      <td>Forastero</td>\n      <td>Congo</td>\n    </tr>\n    <tr>\n      <th>1792</th>\n      <td>1793</td>\n      <td>Zotter</td>\n      <td>Kerala State</td>\n      <td>749</td>\n      <td>2011</td>\n      <td>65%</td>\n      <td>Austria</td>\n      <td>3.50</td>\n      <td>Forastero</td>\n      <td>India</td>\n    </tr>\n    <tr>\n      <th>1793</th>\n      <td>1794</td>\n      <td>Zotter</td>\n      <td>Kerala State</td>\n      <td>781</td>\n      <td>2011</td>\n      <td>62%</td>\n      <td>Austria</td>\n      <td>3.25</td>\n      <td></td>\n      <td>India</td>\n    </tr>\n    <tr>\n      <th>1794</th>\n      <td>1795</td>\n      <td>Zotter</td>\n      <td>Brazil, Mitzi Blue</td>\n      <td>486</td>\n      <td>2010</td>\n      <td>65%</td>\n      <td>Austria</td>\n      <td>3.00</td>\n      <td></td>\n      <td>Brazil</td>\n    </tr>\n  </tbody>\n</table>\n<p>1795 rows × 10 columns</p>\n</div>"
     },
     "execution_count": 5,
     "metadata": {},
     "output_type": "execute_result"
    }
   ],
   "source": [
    "cacao"
   ],
   "metadata": {
    "collapsed": false,
    "pycharm": {
     "name": "#%%\n"
    }
   }
  },
  {
   "cell_type": "code",
   "execution_count": 6,
   "outputs": [
    {
     "name": "stdout",
     "output_type": "stream",
     "text": [
      "1795\n"
     ]
    },
    {
     "data": {
      "text/plain": "<Figure size 432x288 with 1 Axes>",
      "image/png": "[encoded data removed]"
     },
     "metadata": {
      "needs_background": "light"
     },
     "output_type": "display_data"
    }
   ],
   "source": [
    "print(cacao.bar_id.nunique())\n",
    "plt.plot(cacao.bar_id)\n",
    "cacao.drop(['bar_id'], inplace = True, axis = 1)\n"
   ],
   "metadata": {
    "collapsed": false,
    "pycharm": {
     "name": "#%%\n"
    }
   }
  },
  {
   "cell_type": "code",
   "execution_count": 7,
   "outputs": [
    {
     "data": {
      "text/plain": "                                     company\n                                          99\nSoma                                      45\nFresco                                    26\nBonnat                                    26\nPralus                                    25\n...                                      ...\nIndaphoria                                 1\nChocolate Conspiracy                       1\nCemoi                                      1\nSibu Sura                                  1\nHeirloom Cacao Preservation (Mindo)        1\n\n[408 rows x 1 columns]",
      "text/html": "<div>\n<style scoped>\n    .dataframe tbody tr th:only-of-type {\n        vertical-align: middle;\n    }\n\n    .dataframe tbody tr th {\n        vertical-align: top;\n    }\n\n    .dataframe thead th {\n        text-align: right;\n    }\n</style>\n<table border=\"1\" class=\"dataframe\">\n  <thead>\n    <tr style=\"text-align: right;\">\n      <th></th>\n      <th>company</th>\n    </tr>\n  </thead>\n  <tbody>\n    <tr>\n      <th></th>\n      <td>99</td>\n    </tr>\n    <tr>\n      <th>Soma</th>\n      <td>45</td>\n    </tr>\n    <tr>\n      <th>Fresco</th>\n      <td>26</td>\n    </tr>\n    <tr>\n      <th>Bonnat</th>\n      <td>26</td>\n    </tr>\n    <tr>\n      <th>Pralus</th>\n      <td>25</td>\n    </tr>\n    <tr>\n      <th>...</th>\n      <td>...</td>\n    </tr>\n    <tr>\n      <th>Indaphoria</th>\n      <td>1</td>\n    </tr>\n    <tr>\n      <th>Chocolate Conspiracy</th>\n      <td>1</td>\n    </tr>\n    <tr>\n      <th>Cemoi</th>\n      <td>1</td>\n    </tr>\n    <tr>\n      <th>Sibu Sura</th>\n      <td>1</td>\n    </tr>\n    <tr>\n      <th>Heirloom Cacao Preservation (Mindo)</th>\n      <td>1</td>\n    </tr>\n  </tbody>\n</table>\n<p>408 rows × 1 columns</p>\n</div>"
     },
     "execution_count": 7,
     "metadata": {},
     "output_type": "execute_result"
    }
   ],
   "source": [
    "pd.DataFrame(cacao.company.value_counts())"
   ],
   "metadata": {
    "collapsed": false,
    "pycharm": {
     "name": "#%%\n"
    }
   }
  },
  {
   "cell_type": "code",
   "execution_count": 8,
   "outputs": [],
   "source": [
    "cacao.company = cacao.company.apply(lambda x: None if x.strip() == '' else x)\n"
   ],
   "metadata": {
    "collapsed": false,
    "pycharm": {
     "name": "#%%\n"
    }
   }
  },
  {
   "cell_type": "code",
   "execution_count": 9,
   "outputs": [
    {
     "name": "stdout",
     "output_type": "stream",
     "text": [
      "Значений, встретившихся в столбце более 10 раз: 30\n",
      "<class 'pandas.core.frame.DataFrame'>\n",
      "RangeIndex: 1795 entries, 0 to 1794\n",
      "Data columns (total 1 columns):\n",
      " #   Column   Non-Null Count  Dtype \n",
      "---  ------   --------------  ----- \n",
      " 0   company  1696 non-null   object\n",
      "dtypes: object(1)\n",
      "memory usage: 14.1+ KB\n"
     ]
    }
   ],
   "source": [
    "print(\"Значений, встретившихся в столбце более 10 раз:\"#Число 10 взято для ориентира, можно брать другое\n",
    "      , (cacao.company.value_counts()>10).sum())\n",
    "cacao.loc[:, ['company']].info()"
   ],
   "metadata": {
    "collapsed": false,
    "pycharm": {
     "name": "#%%\n"
    }
   }
  },
  {
   "cell_type": "code",
   "execution_count": 10,
   "outputs": [],
   "source": [
    "cacao.specific_origin = cacao.specific_origin.apply(lambda x: None if x.strip() == '' else x )"
   ],
   "metadata": {
    "collapsed": false,
    "pycharm": {
     "name": "#%%\n"
    }
   }
  },
  {
   "cell_type": "code",
   "execution_count": 11,
   "outputs": [
    {
     "name": "stdout",
     "output_type": "stream",
     "text": [
      "Значений, встретившихся в столбце более 10 раз: 15\n",
      "<class 'pandas.core.frame.DataFrame'>\n",
      "RangeIndex: 1795 entries, 0 to 1794\n",
      "Data columns (total 1 columns):\n",
      " #   Column           Non-Null Count  Dtype \n",
      "---  ------           --------------  ----- \n",
      " 0   specific_origin  1737 non-null   object\n",
      "dtypes: object(1)\n",
      "memory usage: 14.1+ KB\n"
     ]
    }
   ],
   "source": [
    "\n",
    "print(\"Значений, встретившихся в столбце более 10 раз:\"#Число 10 взято для ориентира, можно брать другое\n",
    "      , (cacao.specific_origin.value_counts()>10).sum())\n",
    "cacao.loc[:, ['specific_origin']].info()"
   ],
   "metadata": {
    "collapsed": false,
    "pycharm": {
     "name": "#%%\n"
    }
   }
  },
  {
   "cell_type": "code",
   "execution_count": 16,
   "outputs": [
    {
     "data": {
      "text/plain": "count    1795.000000\nmean     1035.904735\nstd       552.886365\nmin         5.000000\n25%       576.000000\n50%      1069.000000\n75%      1502.000000\nmax      1952.000000\nName: ref, dtype: float64"
     },
     "execution_count": 16,
     "metadata": {},
     "output_type": "execute_result"
    },
    {
     "data": {
      "text/plain": "<Figure size 432x288 with 1 Axes>",
      "image/png": "[encoded data removed]"
     },
     "metadata": {
      "needs_background": "light"
     },
     "output_type": "display_data"
    }
   ],
   "source": [
    "cacao.ref.hist()\n",
    "cacao.ref.describe()"
   ],
   "metadata": {
    "collapsed": false,
    "pycharm": {
     "name": "#%%\n"
    }
   }
  },
  {
   "cell_type": "code",
   "execution_count": 18,
   "outputs": [
    {
     "data": {
      "text/plain": "count    1795.000000\nmean     2012.325348\nstd         2.927210\nmin      2006.000000\n25%      2010.000000\n50%      2013.000000\n75%      2015.000000\nmax      2017.000000\nName: review_date, dtype: float64"
     },
     "execution_count": 18,
     "metadata": {},
     "output_type": "execute_result"
    },
    {
     "data": {
      "text/plain": "<Figure size 432x288 with 1 Axes>",
      "image/png": "[encoded data removed]"
     },
     "metadata": {
      "needs_background": "light"
     },
     "output_type": "display_data"
    }
   ],
   "source": [
    "cacao.review_date.hist()\n",
    "cacao.review_date.describe()\n"
   ],
   "metadata": {
    "collapsed": false,
    "pycharm": {
     "name": "#%%\n"
    }
   }
  },
  {
   "cell_type": "code",
   "execution_count": 22,
   "outputs": [],
   "source": [
    "cacao.cocoa_percent = cacao.cocoa_percent.apply(lambda x: float(x.replace('%', '')))"
   ],
   "metadata": {
    "collapsed": false,
    "pycharm": {
     "name": "#%%\n"
    }
   }
  },
  {
   "cell_type": "code",
   "execution_count": 24,
   "outputs": [
    {
     "data": {
      "text/plain": "count    1795.000000\nmean       75.932312\nstd        44.475981\nmin        42.000000\n25%        70.000000\n50%        70.000000\n75%        75.000000\nmax       682.000000\nName: cocoa_percent, dtype: float64"
     },
     "execution_count": 24,
     "metadata": {},
     "output_type": "execute_result"
    },
    {
     "data": {
      "text/plain": "<Figure size 432x288 with 1 Axes>",
      "image/png": "[encoded data removed]"
     },
     "metadata": {
      "needs_background": "light"
     },
     "output_type": "display_data"
    }
   ],
   "source": [
    "cacao.cocoa_percent.hist()\n",
    "cacao.cocoa_percent.describe()"
   ],
   "metadata": {
    "collapsed": false,
    "pycharm": {
     "name": "#%%\n"
    }
   }
  },
  {
   "cell_type": "code",
   "execution_count": 34,
   "outputs": [
    {
     "name": "stdout",
     "output_type": "stream",
     "text": [
      "25-й перцентиль: 70.0, 75-й перцентиль: 75.0, IQR: 5.0,  Границы выбросов: [62.5, 82.5].\n"
     ]
    },
    {
     "data": {
      "text/plain": "<Figure size 432x288 with 1 Axes>",
      "image/png": "[encoded data removed]"
     },
     "metadata": {
      "needs_background": "light"
     },
     "output_type": "display_data"
    }
   ],
   "source": [
    "median = cacao.cocoa_percent.median()\n",
    "perc25 = cacao.cocoa_percent.quantile(0.25)\n",
    "perc75 = cacao.cocoa_percent.quantile(0.75)\n",
    "IQR = perc75 - perc25\n",
    "print('25-й перцентиль: {},'.format(perc25), '75-й перцентиль: {},'.format(perc75)\n",
    "      , \"IQR: {}, \".format(IQR),\"Границы выбросов: [{f}, {l}].\".format(f=perc25 - 1.5*IQR, l=perc75 + 1.5*IQR))\n",
    "cacao.cocoa_percent.loc[cacao.cocoa_percent.between(perc25 - 1.5*IQR, perc75 + 1.5*IQR)].hist(bins = 16\n",
    "                                                                                              , range = (40, 100),\n",
    "                                                                                             label = 'IQR')\n",
    "cacao.cocoa_percent.loc[cacao.cocoa_percent <= 100].hist(alpha = 0.5, bins = 16, range = (40, 100),\n",
    "                                                        label = 'Здравый смысл')\n",
    "plt.legend();"
   ],
   "metadata": {
    "collapsed": false,
    "pycharm": {
     "name": "#%%\n"
    }
   }
  },
  {
   "cell_type": "code",
   "execution_count": 35,
   "outputs": [],
   "source": [
    "cacao = cacao.loc[cacao.cocoa_percent <= 100]"
   ],
   "metadata": {
    "collapsed": false,
    "pycharm": {
     "name": "#%%\n"
    }
   }
  },
  {
   "cell_type": "code",
   "execution_count": null,
   "outputs": [],
   "source": [
    "\n"
   ],
   "metadata": {
    "collapsed": false,
    "pycharm": {
     "name": "#%%\n"
    }
   }
  }
 ],
 "metadata": {
  "kernelspec": {
   "display_name": "Python 3",
   "language": "python",
   "name": "python3"
  },
  "language_info": {
   "codemirror_mode": {
    "name": "ipython",
    "version": 2
   },
   "file_extension": ".py",
   "mimetype": "text/x-python",
   "name": "python",
   "nbconvert_exporter": "python",
   "pygments_lexer": "ipython2",
   "version": "2.7.6"
  }
 },
 "nbformat": 4,
 "nbformat_minor": 0
}